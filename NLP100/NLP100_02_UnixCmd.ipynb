{
 "cells": [
  {
   "cell_type": "markdown",
   "metadata": {},
   "source": [
    "# 第2章: UNIXコマンドの基礎"
   ]
  },
  {
   "cell_type": "markdown",
   "metadata": {},
   "source": [
    "### 10. 行数のカウント"
   ]
  },
  {
   "cell_type": "code",
   "execution_count": 1,
   "metadata": {},
   "outputs": [
    {
     "name": "stdout",
     "output_type": "stream",
     "text": [
      "Line Count: 24\n"
     ]
    }
   ],
   "source": [
    "with open(\"datasets/hightemp.txt\") as in_file:\n",
    "    line_cnt = 0\n",
    "    for line in in_file:\n",
    "        line_cnt += 1\n",
    "print(\"Line Count: {}\".format(line_cnt))"
   ]
  },
  {
   "cell_type": "markdown",
   "metadata": {},
   "source": [
    "### 11. タブをスペースに変換"
   ]
  },
  {
   "cell_type": "code",
   "execution_count": 13,
   "metadata": {},
   "outputs": [
    {
     "name": "stdout",
     "output_type": "stream",
     "text": [
      "高知県 江川崎 41 2013-08-12\n",
      "埼玉県 熊谷 40.9 2007-08-16\n",
      "岐阜県 多治見 40.9 2007-08-16\n",
      "山形県 山形 40.8 1933-07-25\n",
      "山梨県 甲府 40.7 2013-08-10\n",
      "和歌山県 かつらぎ 40.6 1994-08-08\n",
      "静岡県 天竜 40.6 1994-08-04\n",
      "山梨県 勝沼 40.5 2013-08-10\n",
      "埼玉県 越谷 40.4 2007-08-16\n",
      "群馬県 館林 40.3 2007-08-16\n",
      "群馬県 上里見 40.3 1998-07-04\n",
      "愛知県 愛西 40.3 1994-08-05\n",
      "千葉県 牛久 40.2 2004-07-20\n",
      "静岡県 佐久間 40.2 2001-07-24\n",
      "愛媛県 宇和島 40.2 1927-07-22\n",
      "山形県 酒田 40.1 1978-08-03\n",
      "岐阜県 美濃 40 2007-08-16\n",
      "群馬県 前橋 40 2001-07-24\n",
      "千葉県 茂原 39.9 2013-08-11\n",
      "埼玉県 鳩山 39.9 1997-07-05\n",
      "大阪府 豊中 39.9 1994-08-08\n",
      "山梨県 大月 39.9 1990-07-19\n",
      "山形県 鶴岡 39.9 1978-08-03\n",
      "愛知県 名古屋 39.9 1942-08-02\n"
     ]
    }
   ],
   "source": [
    "with open(\"datasets/hightemp.txt\") as in_file, open(\"Outputs/file11.txt\", mode=\"w\") as out_file:\n",
    "    for line in in_file:\n",
    "        line = line.rstrip().split(\"\\t\")\n",
    "        line = \" \".join(line)\n",
    "        print(line, file=out_file)\n",
    "        print(line)"
   ]
  },
  {
   "cell_type": "markdown",
   "metadata": {},
   "source": [
    "### 12. 1列目をcol1.txtに, 2列目をcol2.txtに保存"
   ]
  },
  {
   "cell_type": "code",
   "execution_count": 14,
   "metadata": {},
   "outputs": [],
   "source": [
    "with open(\"datasets/hightemp.txt\") as in_file, open(\"Outputs/file12_col1.txt\", mode=\"w\") as out_file1, \\\n",
    "                                                                      open(\"Outputs/file12_col2.txt\", mode=\"w\") as out_file2:\n",
    "    for line in in_file:\n",
    "            line = line.rstrip().split(\"\\t\")\n",
    "            print(line[0], file=out_file1)\n",
    "            print(line[1], file=out_file2)"
   ]
  },
  {
   "cell_type": "markdown",
   "metadata": {},
   "source": [
    "### 13. col1.txtとcol2.txtをマージ"
   ]
  },
  {
   "cell_type": "code",
   "execution_count": 15,
   "metadata": {},
   "outputs": [
    {
     "name": "stdout",
     "output_type": "stream",
     "text": [
      "高知県\t江川崎\n",
      "埼玉県\t熊谷\n",
      "岐阜県\t多治見\n",
      "山形県\t山形\n",
      "山梨県\t甲府\n",
      "和歌山県\tかつらぎ\n",
      "静岡県\t天竜\n",
      "山梨県\t勝沼\n",
      "埼玉県\t越谷\n",
      "群馬県\t館林\n",
      "群馬県\t上里見\n",
      "愛知県\t愛西\n",
      "千葉県\t牛久\n",
      "静岡県\t佐久間\n",
      "愛媛県\t宇和島\n",
      "山形県\t酒田\n",
      "岐阜県\t美濃\n",
      "群馬県\t前橋\n",
      "千葉県\t茂原\n",
      "埼玉県\t鳩山\n",
      "大阪府\t豊中\n",
      "山梨県\t大月\n",
      "山形県\t鶴岡\n",
      "愛知県\t名古屋\n"
     ]
    }
   ],
   "source": [
    "with open(\"Outputs/file12_col1.txt\") as in_file1, open(\"Outputs/file12_col2.txt\") as in_file2, \\\n",
    "                                                                          open(\"Outputs/file13.txt\", mode=\"w\") as out_file:\n",
    "    for col1, col2 in zip(in_file1, in_file2):\n",
    "        col1 = col1.rstrip()\n",
    "        col2 = col2.rstrip()\n",
    "        print(col1 + \"\\t\" + col2, file=out_file)\n",
    "        print(col1 + \"\\t\" + col2)"
   ]
  },
  {
   "cell_type": "markdown",
   "metadata": {},
   "source": [
    "### 14. 先頭からN行を出力"
   ]
  },
  {
   "cell_type": "code",
   "execution_count": 5,
   "metadata": {},
   "outputs": [],
   "source": [
    "def Nhead(file_name):\n",
    "    n = int(input(\"表示行数: \"))\n",
    "    with open(file_name) as in_file:\n",
    "        for i in range(n):\n",
    "            line = in_file.readline().rstrip()\n",
    "            print(line)"
   ]
  },
  {
   "cell_type": "code",
   "execution_count": 6,
   "metadata": {},
   "outputs": [
    {
     "name": "stdout",
     "output_type": "stream",
     "text": [
      "表示行数: 5\n",
      "高知県\t江川崎\t41\t2013-08-12\n",
      "埼玉県\t熊谷\t40.9\t2007-08-16\n",
      "岐阜県\t多治見\t40.9\t2007-08-16\n",
      "山形県\t山形\t40.8\t1933-07-25\n",
      "山梨県\t甲府\t40.7\t2013-08-10\n"
     ]
    }
   ],
   "source": [
    "Nhead(\"datasets/hightemp.txt\")"
   ]
  },
  {
   "cell_type": "markdown",
   "metadata": {},
   "source": [
    "### 15. 末尾のN行を出力"
   ]
  },
  {
   "cell_type": "code",
   "execution_count": 7,
   "metadata": {},
   "outputs": [],
   "source": [
    "def Ntail(file_name):\n",
    "    all_lines = []\n",
    "    n = int(input(\"表示行数: \"))\n",
    "    with open(file_name) as in_file:\n",
    "        for line in in_file:\n",
    "            line = line.rstrip()\n",
    "            all_lines.append(line)\n",
    "        for line in all_lines[-n:]:\n",
    "            print(line)"
   ]
  },
  {
   "cell_type": "code",
   "execution_count": 8,
   "metadata": {},
   "outputs": [
    {
     "name": "stdout",
     "output_type": "stream",
     "text": [
      "表示行数: 5\n",
      "埼玉県\t鳩山\t39.9\t1997-07-05\n",
      "大阪府\t豊中\t39.9\t1994-08-08\n",
      "山梨県\t大月\t39.9\t1990-07-19\n",
      "山形県\t鶴岡\t39.9\t1978-08-03\n",
      "愛知県\t名古屋\t39.9\t1942-08-02\n"
     ]
    }
   ],
   "source": [
    "Ntail(\"datasets/hightemp.txt\")"
   ]
  },
  {
   "cell_type": "markdown",
   "metadata": {},
   "source": [
    "### 16. ファイルをN分割する"
   ]
  },
  {
   "cell_type": "code",
   "execution_count": 24,
   "metadata": {},
   "outputs": [],
   "source": [
    "def Nsplit(file_name):\n",
    "    all_lines = []\n",
    "    n = int(input(\"ファイル分割数: \"))\n",
    "    with open(file_name) as in_file:\n",
    "        # 入力ファイルの全文をリストに入れる(行数カウント用)\n",
    "        for line in in_file:\n",
    "            line = line.rstrip()\n",
    "            all_lines.append(line)\n",
    "            \n",
    "        # 分割ファイル数による行数の分岐\n",
    "        if len(all_lines) % n == 0:\n",
    "            line_per_file = len(all_lines) / n\n",
    "        else:\n",
    "            line_per_file = (len(all_lines) // n) + 1\n",
    "            \n",
    "        # 各ファイルへの書き込み\n",
    "        for i in range(n):\n",
    "            file_name = \"Outputs/file16_\" + str(i+1) + \".txt\"\n",
    "            with open(file_name, mode=\"w\") as out_file:\n",
    "                st_index = line_per_file * i\n",
    "                ed_index = line_per_file * (i + 1)\n",
    "                for line in all_lines[st_index:ed_index]:\n",
    "                    print(line, file=out_file)"
   ]
  },
  {
   "cell_type": "code",
   "execution_count": 25,
   "metadata": {},
   "outputs": [
    {
     "name": "stdout",
     "output_type": "stream",
     "text": [
      "ファイル分割数: 5\n"
     ]
    }
   ],
   "source": [
    "Nsplit(\"datasets/hightemp.txt\")"
   ]
  },
  {
   "cell_type": "markdown",
   "metadata": {},
   "source": [
    "### 17. 1列目の文字列の異なり"
   ]
  },
  {
   "cell_type": "code",
   "execution_count": 26,
   "metadata": {},
   "outputs": [
    {
     "name": "stdout",
     "output_type": "stream",
     "text": [
      "{'山形県', '大阪府', '高知県', '和歌山県', '千葉県', '愛知県', '岐阜県', '埼玉県', '愛媛県', '群馬県', '山梨県', '静岡県'}\n"
     ]
    }
   ],
   "source": [
    "with open(\"Datasets/hightemp.txt\") as in_file:\n",
    "    col1 = []\n",
    "    for line in in_file:\n",
    "        line = line.rstrip().split(\"\\t\")\n",
    "        col1.append(line[0])\n",
    "print(set(col1))"
   ]
  },
  {
   "cell_type": "markdown",
   "metadata": {},
   "source": [
    "### 18. 各行を3コラム目の数値の降順にソート"
   ]
  },
  {
   "cell_type": "code",
   "execution_count": 35,
   "metadata": {},
   "outputs": [],
   "source": [
    "import numpy as np\n",
    "with open(\"Datasets/hightemp.txt\") as in_file:\n",
    "    temps = []\n",
    "    all_lines = []\n",
    "    for line in in_file:\n",
    "        line = line.rstrip().split(\"\\t\")\n",
    "        all_lines.append(line)\n",
    "        temps.append(line[2])\n",
    "        \n",
    "    mask = np.argsort(temps)\n",
    "    lines_sort = [all_lines[i] for i in mask]"
   ]
  },
  {
   "cell_type": "code",
   "execution_count": 36,
   "metadata": {},
   "outputs": [
    {
     "name": "stdout",
     "output_type": "stream",
     "text": [
      "['愛知県', '名古屋', '39.9', '1942-08-02']\n",
      "['山梨県', '大月', '39.9', '1990-07-19']\n",
      "['大阪府', '豊中', '39.9', '1994-08-08']\n",
      "['埼玉県', '鳩山', '39.9', '1997-07-05']\n",
      "['千葉県', '茂原', '39.9', '2013-08-11']\n",
      "['山形県', '鶴岡', '39.9', '1978-08-03']\n",
      "['群馬県', '前橋', '40', '2001-07-24']\n",
      "['岐阜県', '美濃', '40', '2007-08-16']\n",
      "['山形県', '酒田', '40.1', '1978-08-03']\n",
      "['愛媛県', '宇和島', '40.2', '1927-07-22']\n",
      "['静岡県', '佐久間', '40.2', '2001-07-24']\n",
      "['千葉県', '牛久', '40.2', '2004-07-20']\n",
      "['愛知県', '愛西', '40.3', '1994-08-05']\n",
      "['群馬県', '館林', '40.3', '2007-08-16']\n",
      "['群馬県', '上里見', '40.3', '1998-07-04']\n",
      "['埼玉県', '越谷', '40.4', '2007-08-16']\n",
      "['山梨県', '勝沼', '40.5', '2013-08-10']\n",
      "['静岡県', '天竜', '40.6', '1994-08-04']\n",
      "['和歌山県', 'かつらぎ', '40.6', '1994-08-08']\n",
      "['山梨県', '甲府', '40.7', '2013-08-10']\n",
      "['山形県', '山形', '40.8', '1933-07-25']\n",
      "['岐阜県', '多治見', '40.9', '2007-08-16']\n",
      "['埼玉県', '熊谷', '40.9', '2007-08-16']\n",
      "['高知県', '江川崎', '41', '2013-08-12']\n"
     ]
    }
   ],
   "source": [
    "for line in lines_sort:\n",
    "    print(line)"
   ]
  },
  {
   "cell_type": "markdown",
   "metadata": {},
   "source": [
    "### 19. 各行の1列目の文字列の出現頻度を求め、出現頻度の高い順にまとめる"
   ]
  },
  {
   "cell_type": "code",
   "execution_count": 37,
   "metadata": {},
   "outputs": [
    {
     "name": "stdout",
     "output_type": "stream",
     "text": [
      "Counter({'埼玉県': 3, '山形県': 3, '山梨県': 3, '群馬県': 3, '岐阜県': 2, '静岡県': 2, '愛知県': 2, '千葉県': 2, '高知県': 1, '和歌山県': 1, '愛媛県': 1, '大阪府': 1})\n"
     ]
    }
   ],
   "source": [
    "from collections import Counter\n",
    "with open(\"Datasets/hightemp.txt\") as in_file:\n",
    "    col1 = []\n",
    "    for line in in_file:\n",
    "        line = line.rstrip().split(\"\\t\")\n",
    "        col1.append(line[0])\n",
    "    count_col1 = Counter(col1)\n",
    "    print(count_col1)"
   ]
  },
  {
   "cell_type": "code",
   "execution_count": null,
   "metadata": {},
   "outputs": [],
   "source": []
  }
 ],
 "metadata": {
  "kernelspec": {
   "display_name": "mainEnv",
   "language": "python",
   "name": "mainenv"
  },
  "language_info": {
   "codemirror_mode": {
    "name": "ipython",
    "version": 3
   },
   "file_extension": ".py",
   "mimetype": "text/x-python",
   "name": "python",
   "nbconvert_exporter": "python",
   "pygments_lexer": "ipython3",
   "version": "3.7.0"
  }
 },
 "nbformat": 4,
 "nbformat_minor": 2
}
