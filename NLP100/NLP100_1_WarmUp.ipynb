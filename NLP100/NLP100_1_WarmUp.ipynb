{
 "cells": [
  {
   "cell_type": "markdown",
   "metadata": {},
   "source": [
    "# 第1章: 準備運動"
   ]
  },
  {
   "cell_type": "markdown",
   "metadata": {},
   "source": [
    "### 00. 文字列の逆順"
   ]
  },
  {
   "cell_type": "code",
   "execution_count": 1,
   "metadata": {},
   "outputs": [
    {
     "name": "stdout",
     "output_type": "stream",
     "text": [
      "desserts\n"
     ]
    }
   ],
   "source": [
    "print(\"stressed\"[::-1])"
   ]
  },
  {
   "cell_type": "markdown",
   "metadata": {},
   "source": [
    "### 01. 「パタトクカシーー」"
   ]
  },
  {
   "cell_type": "code",
   "execution_count": 2,
   "metadata": {},
   "outputs": [
    {
     "name": "stdout",
     "output_type": "stream",
     "text": [
      "パトカー\n"
     ]
    }
   ],
   "source": [
    "print(\"パタトクカシーー\"[::2])"
   ]
  },
  {
   "cell_type": "markdown",
   "metadata": {},
   "source": [
    "### 02. 「パトカー」 + 「タクシー」 = 「パタトクカシーー」"
   ]
  },
  {
   "cell_type": "code",
   "execution_count": 3,
   "metadata": {},
   "outputs": [
    {
     "name": "stdout",
     "output_type": "stream",
     "text": [
      "パタトクカシーー\n"
     ]
    }
   ],
   "source": [
    "result = \"\"\n",
    "for a, b in zip(\"パトカー\", \"タクシー\"):\n",
    "    result += a + b\n",
    "print(result)"
   ]
  },
  {
   "cell_type": "markdown",
   "metadata": {},
   "source": [
    "### 03. 円周率"
   ]
  },
  {
   "cell_type": "code",
   "execution_count": 4,
   "metadata": {},
   "outputs": [
    {
     "name": "stdout",
     "output_type": "stream",
     "text": [
      "314159265358979"
     ]
    }
   ],
   "source": [
    "sentence = \"Now I need a drink, alcoholic of course, after the heavy lectures involving quantum mechanics.\"\n",
    "sentence = sentence.replace(\".\", \"\").replace(\",\", \"\").split()\n",
    "for word in sentence:\n",
    "    print(len(word), end=\"\")"
   ]
  },
  {
   "cell_type": "markdown",
   "metadata": {},
   "source": [
    "### 04. 元素記号"
   ]
  },
  {
   "cell_type": "code",
   "execution_count": 5,
   "metadata": {},
   "outputs": [
    {
     "name": "stdout",
     "output_type": "stream",
     "text": [
      "{'H': 1, 'He': 2, 'Li': 3, 'Be': 4, 'B': 5, 'C': 6, 'N': 7, 'O': 8, 'F': 9, 'Ne': 10, 'Na': 11, 'Mi': 12, 'Al': 13, 'Si': 14, 'P': 15, 'S': 16, 'Cl': 17, 'Ar': 18, 'K': 19, 'Ca': 20}\n"
     ]
    }
   ],
   "source": [
    "sentence = \"Hi He Lied Because Boron Could Not Oxidize Fluorine. New Nations Might Also Sign Peace Security Clause. Arthur King Can.\"\n",
    "sentence = sentence.replace(\".\", \"\").split()\n",
    "list_onealph = [1, 5, 6, 7, 8, 9, 15, 16, 19]\n",
    "\n",
    "\"\"\"\n",
    "dict_element = {}\n",
    "for i, elem in enumerate(sentence):\n",
    "    if i+1 in list_onealph:\n",
    "        dict_element[elem[:1]] = i+1\n",
    "    else:\n",
    "        dict_element[elem[:2]] = i+1\n",
    "\"\"\"\n",
    "dict_element = {elem[:1] if i+1 in list_onealph else elem[:2] : i+1 for i, elem in enumerate(sentence)}\n",
    "print(dict_element)"
   ]
  },
  {
   "cell_type": "markdown",
   "metadata": {},
   "source": [
    "### 05. n-gram"
   ]
  },
  {
   "cell_type": "code",
   "execution_count": 6,
   "metadata": {},
   "outputs": [],
   "source": [
    "#N-gram\n",
    "def n_gram(n, sentence, word_mode=True):\n",
    "    result = []\n",
    "    \n",
    "    if word_mode == True:\n",
    "        tokens = sentence.replace(\".\", \"\").replace(\",\", \"\").split()\n",
    "        for i in range(len(tokens)):\n",
    "            words = tokens[i:min(i+n, len(tokens))]\n",
    "            if len(words) == n:\n",
    "                result.append(words)\n",
    "            \n",
    "    else:\n",
    "        for i in range(len(sentence)):\n",
    "            charas = sentence[i:min(i+n, len(sentence))]\n",
    "            if len(charas) == n:\n",
    "                result.append(charas)\n",
    "\n",
    "    return result"
   ]
  },
  {
   "cell_type": "code",
   "execution_count": 7,
   "metadata": {},
   "outputs": [
    {
     "name": "stdout",
     "output_type": "stream",
     "text": [
      "Word N-gram: [['I', 'am'], ['am', 'an'], ['an', 'NLPer']]\n",
      "Chara N-gram: ['I ', ' a', 'am', 'm ', ' a', 'an', 'n ', ' N', 'NL', 'LP', 'Pe', 'er']\n"
     ]
    }
   ],
   "source": [
    "sentence = \"I am an NLPer\"\n",
    "print(\"Word N-gram: {}\".format(n_gram(2, sentence)))\n",
    "print(\"Chara N-gram: {}\".format(n_gram(2, sentence, word_mode=False)))"
   ]
  },
  {
   "cell_type": "markdown",
   "metadata": {},
   "source": [
    "### 06. 集合"
   ]
  },
  {
   "cell_type": "code",
   "execution_count": 8,
   "metadata": {},
   "outputs": [
    {
     "name": "stdout",
     "output_type": "stream",
     "text": [
      "X: {'ad', 'is', 'ra', 'ap', 'di', 'se', 'pa', 'ar'}\n",
      "Y: {'ph', 'gr', 'ra', 'ag', 'ap', 'pa', 'ar'}\n",
      "X + Y: {'ph', 'ad', 'gr', 'is', 'ra', 'ag', 'ap', 'di', 'se', 'pa', 'ar'}\n",
      "X * Y: {'pa', 'ra', 'ap', 'ar'}\n",
      "X - Y: {'is', 'ad', 'se', 'di'}\n",
      "'se' in X: True\n",
      "'se' in Y: False\n"
     ]
    }
   ],
   "source": [
    "X_word = \"paraparaparadise\"\n",
    "Y_word = \"paragraph\"\n",
    "X = set(n_gram(2, X_word, word_mode=False))\n",
    "Y = set(n_gram(2, Y_word, word_mode=False))\n",
    "print(\"X: {}\".format(X))\n",
    "print(\"Y: {}\".format(Y))\n",
    "print(\"X + Y: {}\".format(X|Y))\n",
    "print(\"X * Y: {}\".format(X&Y))\n",
    "print(\"X - Y: {}\".format(X-Y))\n",
    "print(\"'se' in X: {}\".format('se' in X))\n",
    "print(\"'se' in Y: {}\".format('se' in Y))"
   ]
  },
  {
   "cell_type": "markdown",
   "metadata": {},
   "source": [
    "### 07. テンプレートによる文生成"
   ]
  },
  {
   "cell_type": "code",
   "execution_count": 9,
   "metadata": {},
   "outputs": [
    {
     "name": "stdout",
     "output_type": "stream",
     "text": [
      "12時の気温は22.4\n"
     ]
    }
   ],
   "source": [
    "def template(x, y, z):\n",
    "    return \"{}時の{}は{}\".format(x, y, z)\n",
    "print(template(x = 12, y = \"気温\", z = 22.4))"
   ]
  },
  {
   "cell_type": "markdown",
   "metadata": {},
   "source": [
    "### 08. 暗号文"
   ]
  },
  {
   "cell_type": "code",
   "execution_count": 10,
   "metadata": {},
   "outputs": [],
   "source": [
    "def cipher(sentence):\n",
    "    result = \"\"\n",
    "    for chara in sentence:\n",
    "        if ord(chara) >= 97 and ord(chara) <= 122:\n",
    "            original = ord(chara)\n",
    "            code = chr(219 - original)\n",
    "        else:\n",
    "            code = chara\n",
    "        result += code\n",
    "    return result"
   ]
  },
  {
   "cell_type": "code",
   "execution_count": 11,
   "metadata": {},
   "outputs": [
    {
     "name": "stdout",
     "output_type": "stream",
     "text": [
      "original: Now I need a drink, alcoholic of course, after the heavy lectures involving quantum mechanics.\n",
      "cipher: Nld I mvvw z wirmp, zoxlslorx lu xlfihv, zugvi gsv svzeb ovxgfivh rmeloermt jfzmgfn nvxszmrxh.\n",
      "decipher: Now I need a drink, alcoholic of course, after the heavy lectures involving quantum mechanics.\n"
     ]
    }
   ],
   "source": [
    "sentence = \"Now I need a drink, alcoholic of course, after the heavy lectures involving quantum mechanics.\"\n",
    "code = cipher(sentence)\n",
    "print(\"original: {}\".format(sentence))\n",
    "print(\"cipher: {}\".format(code))\n",
    "print(\"decipher: {}\".format(cipher(code)))"
   ]
  },
  {
   "cell_type": "markdown",
   "metadata": {},
   "source": [
    "### 09. Typoglycemia"
   ]
  },
  {
   "cell_type": "code",
   "execution_count": 12,
   "metadata": {},
   "outputs": [],
   "source": [
    "import random\n",
    "def typoglycemia(sentence):\n",
    "    result = []\n",
    "    sentence = sentence.split()\n",
    "    for word in sentence:\n",
    "        if len(word) <= 4:\n",
    "            result.append(word)\n",
    "        else:\n",
    "            temp_word = word[1:-1]\n",
    "            temp_word = random.sample(temp_word, len(temp_word))\n",
    "            temp_word = \"\".join(temp_word)\n",
    "            word = word[0] + temp_word + word[-1]\n",
    "            result.append(word)\n",
    "    result = \" \".join(result)\n",
    "    return result"
   ]
  },
  {
   "cell_type": "code",
   "execution_count": 13,
   "metadata": {},
   "outputs": [
    {
     "data": {
      "text/plain": [
       "\"I c'nludot blieeve that I cloud alactluy urdansnted what I was rideang : the pmanenheol poewr of the hmuan mind .\""
      ]
     },
     "execution_count": 13,
     "metadata": {},
     "output_type": "execute_result"
    }
   ],
   "source": [
    "sentence = \"I couldn't believe that I could actually understand what I was reading : the phenomenal power of the human mind .\"\n",
    "typoglycemia(sentence)"
   ]
  },
  {
   "cell_type": "code",
   "execution_count": null,
   "metadata": {},
   "outputs": [],
   "source": []
  }
 ],
 "metadata": {
  "kernelspec": {
   "display_name": "mainEnv",
   "language": "python",
   "name": "mainenv"
  },
  "language_info": {
   "codemirror_mode": {
    "name": "ipython",
    "version": 3
   },
   "file_extension": ".py",
   "mimetype": "text/x-python",
   "name": "python",
   "nbconvert_exporter": "python",
   "pygments_lexer": "ipython3",
   "version": "3.7.0"
  }
 },
 "nbformat": 4,
 "nbformat_minor": 2
}
