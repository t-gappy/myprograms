{
 "cells": [
  {
   "cell_type": "code",
   "execution_count": 1,
   "metadata": {},
   "outputs": [],
   "source": [
    "import TSNE\n",
    "from sklearn.datasets import load_digits\n",
    "import matplotlib.pyplot as plt\n",
    "import numpy as np"
   ]
  },
  {
   "cell_type": "code",
   "execution_count": 2,
   "metadata": {},
   "outputs": [],
   "source": [
    "tsne = TSNE.TSNE()"
   ]
  },
  {
   "cell_type": "code",
   "execution_count": 3,
   "metadata": {},
   "outputs": [],
   "source": [
    "digits = load_digits()\n",
    "input_data = digits.data"
   ]
  },
  {
   "cell_type": "code",
   "execution_count": 4,
   "metadata": {
    "scrolled": true
   },
   "outputs": [
    {
     "name": "stdout",
     "output_type": "stream",
     "text": [
      "Calculating Joint Probability of Input Data..........Done!\n",
      "Preparing New Dimensional Data.......................\n",
      "iter: 0, loss: 3.9188484321969637\n",
      "iter: 1, loss: 3.9188484370817784\n",
      "iter: 2, loss: 3.9188484324370867\n",
      "iter: 3, loss: 3.9188484304455677\n",
      "iter: 4, loss: 3.9188484255767806\n",
      "iter: 5, loss: 3.918848414812743\n",
      "iter: 6, loss: 3.9188483894428403\n",
      "iter: 7, loss: 3.9188483284603612\n",
      "iter: 8, loss: 3.9188481803594573\n",
      "iter: 9, loss: 3.9188478179521566\n",
      "iter: 10, loss: 3.9188469255868994\n",
      "iter: 11, loss: 3.918844716889372\n",
      "iter: 12, loss: 3.9188392262020186\n",
      "iter: 13, loss: 3.9188255265310588\n",
      "iter: 14, loss: 3.9187912405581296\n",
      "iter: 15, loss: 3.9187052237763083\n",
      "iter: 16, loss: 3.918489053144793\n",
      "iter: 17, loss: 3.9179454846229906\n",
      "iter: 18, loss: 3.9165811341908685\n",
      "iter: 19, loss: 3.913181468347548\n",
      "iter: 20, loss: 3.904878973433627\n",
      "iter: 21, loss: 3.8855609327575897\n",
      "iter: 22, loss: 3.8449155781911473\n",
      "iter: 23, loss: 3.7726022767669796\n",
      "iter: 24, loss: 3.667958991646099\n",
      "iter: 25, loss: 3.541922685445125\n",
      "iter: 26, loss: 3.408221788665257\n",
      "iter: 27, loss: 3.277565749591749\n",
      "iter: 28, loss: 3.1571906228852913\n",
      "iter: 29, loss: 3.0511535699812016\n",
      "iter: 30, loss: 2.9604603018591256\n",
      "iter: 31, loss: 2.883740439016557\n",
      "iter: 32, loss: 2.8187002574657507\n",
      "iter: 33, loss: 2.7629650488779207\n",
      "iter: 34, loss: 2.714518057229616\n",
      "iter: 35, loss: 2.671762782638968\n",
      "iter: 36, loss: 2.6335903313176647\n",
      "iter: 37, loss: 2.599206938918856\n",
      "iter: 38, loss: 2.5680433647818375\n",
      "iter: 39, loss: 2.5396219302489724\n",
      "iter: 40, loss: 2.5136162914553197\n",
      "iter: 41, loss: 2.489718548116115\n",
      "iter: 42, loss: 2.4676767609147774\n",
      "iter: 43, loss: 2.4472201743429944\n",
      "iter: 44, loss: 2.4281419959152744\n",
      "iter: 45, loss: 2.4102143135883085\n",
      "iter: 46, loss: 2.393273544747886\n",
      "iter: 47, loss: 2.377126677509413\n",
      "iter: 48, loss: 2.361658991296443\n",
      "iter: 49, loss: 2.3467471111543023\n",
      "iter: 50, loss: 2.3323857962708074\n",
      "iter: 51, loss: 2.308728790561331\n",
      "iter: 52, loss: 2.2795113539801233\n",
      "iter: 53, loss: 2.250019912558051\n",
      "iter: 54, loss: 2.221574343131456\n",
      "iter: 55, loss: 2.19391807360007\n",
      "iter: 56, loss: 2.1673500028737895\n",
      "iter: 57, loss: 2.1420376412457465\n",
      "iter: 58, loss: 2.1179027227184655\n",
      "iter: 59, loss: 2.0949165318400502\n",
      "iter: 60, loss: 2.0730876474359574\n",
      "iter: 61, loss: 2.0523979774418213\n",
      "iter: 62, loss: 2.032804861653645\n",
      "iter: 63, loss: 2.014240223786861\n",
      "iter: 64, loss: 1.9966138819731232\n",
      "iter: 65, loss: 1.9798305135051002\n",
      "iter: 66, loss: 1.9638035946545036\n",
      "iter: 67, loss: 1.948459868334268\n",
      "iter: 68, loss: 1.9337385619805352\n",
      "iter: 69, loss: 1.9195889610029282\n",
      "iter: 70, loss: 1.9059679372479759\n",
      "iter: 71, loss: 1.8928380796287174\n",
      "iter: 72, loss: 1.8801663978428431\n",
      "iter: 73, loss: 1.8679233590047235\n",
      "iter: 74, loss: 1.8560821451412415\n",
      "iter: 75, loss: 1.8446181257810297\n",
      "iter: 76, loss: 1.8335085439269092\n",
      "iter: 77, loss: 1.822732379255033\n",
      "iter: 78, loss: 1.8122703229119161\n",
      "iter: 79, loss: 1.8021047895445002\n",
      "iter: 80, loss: 1.7922199033884896\n",
      "iter: 81, loss: 1.7826014181318754\n",
      "iter: 82, loss: 1.7732365589253452\n",
      "iter: 83, loss: 1.7641138042571514\n",
      "iter: 84, loss: 1.7552226467506433\n",
      "iter: 85, loss: 1.7465533763856267\n",
      "iter: 86, loss: 1.7380969158198787\n",
      "iter: 87, loss: 1.7298447140669184\n",
      "iter: 88, loss: 1.7217886848294033\n",
      "iter: 89, loss: 1.7139211681226807\n",
      "iter: 90, loss: 1.7062348984910927\n",
      "iter: 91, loss: 1.698722973449852\n",
      "iter: 92, loss: 1.6913788241968035\n",
      "iter: 93, loss: 1.6841961933163196\n",
      "iter: 94, loss: 1.6771691219351574\n",
      "iter: 95, loss: 1.670291944803565\n",
      "iter: 96, loss: 1.6635592890270323\n",
      "iter: 97, loss: 1.6569660719247261\n",
      "iter: 98, loss: 1.650507495268772\n",
      "iter: 99, loss: 1.644179035601796\n",
      "iter: 100, loss: 1.6379764321698107\n",
      "iter: 101, loss: 1.6318956744763196\n",
      "iter: 102, loss: 1.6259329900969668\n",
      "iter: 103, loss: 1.6200848303543065\n",
      "iter: 104, loss: 1.6143478487294731\n",
      "iter: 105, loss: 1.608718867944866\n",
      "iter: 106, loss: 1.6031948376476506\n"
     ]
    }
   ],
   "source": [
    "transformed_digits = tsne.transform(input_data)"
   ]
  },
  {
   "cell_type": "code",
   "execution_count": 5,
   "metadata": {},
   "outputs": [
    {
     "data": {
      "text/plain": [
       "<matplotlib.collections.PathCollection at 0x1a21a03f28>"
      ]
     },
     "execution_count": 5,
     "metadata": {},
     "output_type": "execute_result"
    },
    {
     "data": {
      "image/png": "[encoded data removed]",
      "text/plain": [
       "<Figure size 432x288 with 1 Axes>"
      ]
     },
     "metadata": {
      "needs_background": "light"
     },
     "output_type": "display_data"
    }
   ],
   "source": [
    "plt.scatter(transformed_digits[np.where(digits.target==0), 0], transformed_digits[np.where(digits.target==0), 1], c = \"black\")\n",
    "plt.scatter(transformed_digits[np.where(digits.target==1), 0], transformed_digits[np.where(digits.target==1), 1], c = \"grey\")\n",
    "plt.scatter(transformed_digits[np.where(digits.target==2), 0], transformed_digits[np.where(digits.target==2), 1], c = \"red\")\n",
    "plt.scatter(transformed_digits[np.where(digits.target==3), 0], transformed_digits[np.where(digits.target==3), 1], c = \"green\")\n",
    "plt.scatter(transformed_digits[np.where(digits.target==4), 0], transformed_digits[np.where(digits.target==4), 1], c = \"blue\")\n",
    "plt.scatter(transformed_digits[np.where(digits.target==5), 0], transformed_digits[np.where(digits.target==5), 1], c = \"magenta\")\n",
    "plt.scatter(transformed_digits[np.where(digits.target==6), 0], transformed_digits[np.where(digits.target==6), 1], c = \"cyan\")\n",
    "plt.scatter(transformed_digits[np.where(digits.target==7), 0], transformed_digits[np.where(digits.target==7), 1], c = \"yellow\")\n",
    "plt.scatter(transformed_digits[np.where(digits.target==8), 0], transformed_digits[np.where(digits.target==8), 1], c = \"brown\")\n",
    "plt.scatter(transformed_digits[np.where(digits.target==9), 0], transformed_digits[np.where(digits.target==9), 1], c = \"purple\")"
   ]
  },
  {
   "cell_type": "code",
   "execution_count": null,
   "metadata": {},
   "outputs": [],
   "source": []
  }
 ],
 "metadata": {
  "kernelspec": {
   "display_name": "mainEnv",
   "language": "python",
   "name": "mainenv"
  },
  "language_info": {
   "codemirror_mode": {
    "name": "ipython",
    "version": 3
   },
   "file_extension": ".py",
   "mimetype": "text/x-python",
   "name": "python",
   "nbconvert_exporter": "python",
   "pygments_lexer": "ipython3",
   "version": "3.7.0"
  }
 },
 "nbformat": 4,
 "nbformat_minor": 2
}
